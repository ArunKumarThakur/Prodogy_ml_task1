{
 "cells": [
  {
   "cell_type": "code",
   "execution_count": null,
   "id": "82feb75e-c441-4ea0-9ef7-c9331d68a5a0",
   "metadata": {},
   "outputs": [],
   "source": [
    "# Importing all necessary libraries\n",
    "import numpy as np\n",
    "import pandas as pd\n",
    "import matplotlib.pyplot as plt\n",
    "import seaborn as sns\n",
    "# To remove any warning from the notebook"
   ]
  },
  {
   "cell_type": "code",
   "execution_count": null,
   "id": "ef6fe0b2-b4b7-441c-8eff-f58d582cdaa1",
   "metadata": {},
   "outputs": [],
   "source": [
    "df = pd.read_csv('train.csv')"
   ]
  },
  {
   "cell_type": "code",
   "execution_count": null,
   "id": "93f42a7a-c2a7-415a-9ce5-bc3b7ff01b9c",
   "metadata": {},
   "outputs": [],
   "source": [
    "df.head(5)"
   ]
  },
  {
   "cell_type": "code",
   "execution_count": null,
   "id": "25b3a35c-1a78-4d4e-aa55-30c2208d7130",
   "metadata": {},
   "outputs": [],
   "source": [
    "print()S"
   ]
  },
  {
   "cell_type": "code",
   "execution_count": null,
   "id": "3831c7ba-5943-473d-a026-cd7cbee54bc6",
   "metadata": {},
   "outputs": [],
   "source": []
  },
  {
   "cell_type": "code",
   "execution_count": null,
   "id": "c884e3c4-be60-466e-a3e8-aecb25ec7433",
   "metadata": {},
   "outputs": [],
   "source": []
  },
  {
   "cell_type": "code",
   "execution_count": null,
   "id": "9a5611bd-354e-47ca-a242-04a5c78c933b",
   "metadata": {},
   "outputs": [],
   "source": []
  },
  {
   "cell_type": "code",
   "execution_count": null,
   "id": "0c577d4a-d582-4f06-9d2e-2e9a2e741441",
   "metadata": {},
   "outputs": [],
   "source": []
  },
  {
   "cell_type": "code",
   "execution_count": null,
   "id": "dde6c7c8-d226-4cc5-9765-dc7171606a37",
   "metadata": {},
   "outputs": [],
   "source": []
  }
 ],
 "metadata": {
  "kernelspec": {
   "display_name": "Python 3 (ipykernel)",
   "language": "python",
   "name": "python3"
  },
  "language_info": {
   "codemirror_mode": {
    "name": "ipython",
    "version": 3
   },
   "file_extension": ".py",
   "mimetype": "text/x-python",
   "name": "python",
   "nbconvert_exporter": "python",
   "pygments_lexer": "ipython3",
   "version": "3.12.4"
  }
 },
 "nbformat": 4,
 "nbformat_minor": 5
}
